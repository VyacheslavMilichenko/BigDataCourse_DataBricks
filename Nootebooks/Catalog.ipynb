{
 "cells": [
  {
   "cell_type": "code",
   "execution_count": 0,
   "metadata": {
    "application/vnd.databricks.v1+cell": {
     "cellMetadata": {
      "byteLimit": 2048000,
      "rowLimit": 10000
     },
     "inputWidgets": {},
     "nuid": "61920dcc-18b0-4210-b25e-9bab39fc7a01",
     "showTitle": false,
     "tableResultSettingsMap": {},
     "title": ""
    }
   },
   "outputs": [],
   "source": [
    "CREATE CATALOG IF NOT EXISTS vmilichenko_nyc_catalog\n",
    "MANAGED LOCATION 's3://databricks-vmilichenko';"
   ]
  },
  {
   "cell_type": "code",
   "execution_count": 0,
   "metadata": {
    "application/vnd.databricks.v1+cell": {
     "cellMetadata": {
      "byteLimit": 2048000,
      "rowLimit": 10000
     },
     "inputWidgets": {},
     "nuid": "607b6d48-26aa-4116-a7c0-735b09acaf33",
     "showTitle": false,
     "tableResultSettingsMap": {},
     "title": ""
    }
   },
   "outputs": [],
   "source": [
    "GRANT ALL PRIVILEGES ON CATALOG vmilichenko_nyc_catalog TO `deniskulemza1@gmail.com`"
   ]
  },
  {
   "cell_type": "code",
   "execution_count": 0,
   "metadata": {
    "application/vnd.databricks.v1+cell": {
     "cellMetadata": {
      "byteLimit": 2048000,
      "rowLimit": 10000
     },
     "inputWidgets": {},
     "nuid": "5153cbec-9ae8-45e6-bb45-a59b7b1a536b",
     "showTitle": false,
     "tableResultSettingsMap": {},
     "title": ""
    }
   },
   "outputs": [],
   "source": [
    "CREATE SCHEMA IF NOT EXISTS vmilichenko_nyc_catalog.nyc_taxi\n",
    "COMMENT 'Схема для навчального проєкту з аналізу поїздок таксі в Нью-Йорку'\n",
    "MANAGED LOCATION 's3://databricks-vmilichenko/nyc_taxi/';"
   ]
  },
  {
   "cell_type": "code",
   "execution_count": 0,
   "metadata": {
    "application/vnd.databricks.v1+cell": {
     "cellMetadata": {
      "byteLimit": 2048000,
      "rowLimit": 10000
     },
     "inputWidgets": {},
     "nuid": "b4617283-e88f-490f-8881-8fb7c31abcac",
     "showTitle": false,
     "tableResultSettingsMap": {},
     "title": ""
    }
   },
   "outputs": [],
   "source": [
    "CREATE TABLE vmilichenko_nyc_catalog.nyc_taxi.raw_trips (\n",
    "    congestion_surcharge DOUBLE,\n",
    "    dropoff_zone STRING,\n",
    "    duration_min DOUBLE,\n",
    "    extra DOUBLE,\n",
    "    fare_amount DOUBLE,\n",
    "    improvement_surcharge DOUBLE,\n",
    "    mta_tax DOUBLE,\n",
    "    passenger_count BIGINT,\n",
    "    payment_type BIGINT,\n",
    "    pickup_day_of_week INT,\n",
    "    pickup_hour INT,\n",
    "    pickup_zone STRING,\n",
    "    service_zone STRING,\n",
    "    store_and_fwd_flag STRING,\n",
    "    taxi_type STRING,\n",
    "    tip_amount DOUBLE,\n",
    "    tolls_amount DOUBLE,\n",
    "    total_amount DOUBLE,\n",
    "    tpep_dropoff_datetime TIMESTAMP_NTZ,\n",
    "    tpep_pickup_datetime TIMESTAMP_NTZ,\n",
    "    trip_distance DOUBLE\n",
    ")\n",
    "USING DELTA"
   ]
  },
  {
   "cell_type": "code",
   "execution_count": 0,
   "metadata": {
    "application/vnd.databricks.v1+cell": {
     "cellMetadata": {
      "byteLimit": 2048000,
      "rowLimit": 10000
     },
     "inputWidgets": {},
     "nuid": "85841569-50fe-40fa-9209-36da44f4f28b",
     "showTitle": false,
     "tableResultSettingsMap": {},
     "title": ""
    }
   },
   "outputs": [],
   "source": [
    "DROP TABLE IF EXISTS vmilichenko_nyc_catalog.nyc_taxi.raw_trips;"
   ]
  }
 ],
 "metadata": {
  "application/vnd.databricks.v1+notebook": {
   "computePreferences": null,
   "dashboards": [],
   "environmentMetadata": {
    "base_environment": "",
    "environment_version": "2"
   },
   "inputWidgetPreferences": null,
   "language": "sql",
   "notebookMetadata": {
    "pythonIndentUnit": 4
   },
   "notebookName": "Catalog",
   "widgets": {}
  },
  "language_info": {
   "name": "sql"
  }
 },
 "nbformat": 4,
 "nbformat_minor": 0
}

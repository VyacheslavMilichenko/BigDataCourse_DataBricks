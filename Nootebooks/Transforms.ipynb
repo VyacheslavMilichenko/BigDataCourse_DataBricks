{
 "cells": [
  {
   "cell_type": "code",
   "execution_count": 0,
   "metadata": {
    "application/vnd.databricks.v1+cell": {
     "cellMetadata": {
      "byteLimit": 2048000,
      "rowLimit": 10000
     },
     "inputWidgets": {},
     "nuid": "e6968345-b8ff-4ac0-9e9f-e47ba2a30d69",
     "showTitle": false,
     "tableResultSettingsMap": {},
     "title": ""
    }
   },
   "outputs": [],
   "source": [
    "# Імпортуємо лише необхідні функції з Spark\n",
    "from pyspark.sql.functions import col, count, avg, max, min, sum, when\n",
    "\n",
    "# Читаємо таблицю raw_trips з Unity Catalog\n",
    "df_raw_trips = spark.table(\"vmilichenko_nyc_catalog.nyc_taxi.raw_trips\")\n",
    "\n",
    "# Додаємо допоміжні булеві колонки:\n",
    "# - чи поїздка yellow\n",
    "# - чи green\n",
    "# - чи вартість більше $30\n",
    "df_raw_trips = df_raw_trips.withColumn(\"is_yellow\", (col(\"taxi_type\") == \"yellow\").cast(\"double\")) \\\n",
    "       .withColumn(\"is_green\", (col(\"taxi_type\") == \"green\").cast(\"double\")) \\\n",
    "       .withColumn(\"is_high_fare\", (col(\"fare_amount\") > 30).cast(\"double\"))\n",
    "\n",
    "# -----------------------------------------------\n",
    "# Створення агрегованої таблиці zone_summary\n",
    "# -----------------------------------------------\n",
    "zone_summary = df_raw_trips.groupBy(\"pickup_zone\").agg(\n",
    "    count(\"*\").alias(\"total_trips\"),                        # загальна кількість поїздок\n",
    "    avg(\"trip_distance\").alias(\"avg_trip_distance\"),        # середня дистанція\n",
    "    avg(\"total_amount\").alias(\"avg_total_amount\"),          # середня вартість поїздки\n",
    "    avg(\"tip_amount\").alias(\"avg_tip_amount\"),              # середні чайові\n",
    "    avg(\"is_yellow\").alias(\"yellow_share\"),                 # частка yellow таксі\n",
    "    avg(\"is_green\").alias(\"green_share\"),                   # частка green таксі\n",
    "    max(\"trip_distance\").alias(\"max_trip_distance\"),        # макс дистанція\n",
    "    min(\"tip_amount\").alias(\"min_tip_amount\"),              # мін чайові\n",
    "    sum(\"total_amount\").alias(\"total_trip_amount\")          # сумарна виручка\n",
    ")\n",
    "\n",
    "# Запис результату у форматі Delta до Unity Catalog\n",
    "zone_summary.write.format(\"delta\").mode(\"overwrite\").saveAsTable(\"vmilichenko_nyc_catalog.nyc_taxi.zone_summary\")\n",
    "\n",
    "# -----------------------------------------------\n",
    "# Створення агрегованої таблиці zone_days_summary\n",
    "# -----------------------------------------------\n",
    "zone_days_summary = df_raw_trips.groupBy(\"pickup_day_of_week\", \"pickup_zone\").agg(\n",
    "    count(\"*\").alias(\"total_trips_per_day\"),                # кількість поїздок за день у зоні\n",
    "    avg(\"duration_min\").alias(\"avg_duration_per_zone\"),     # середня тривалість\n",
    "    avg(\"is_high_fare\").alias(\"high_fare_share\")            # частка дорогих поїздок (> $30)\n",
    ")\n",
    "\n",
    "# Запис результату у форматі Delta до Unity Catalog\n",
    "zone_days_summary.write.format(\"delta\").mode(\"overwrite\").saveAsTable(\"vmilichenko_nyc_catalog.nyc_taxi.zone_days_summary\")\n"
   ]
  }
 ],
 "metadata": {
  "application/vnd.databricks.v1+notebook": {
   "computePreferences": null,
   "dashboards": [],
   "environmentMetadata": {
    "base_environment": "",
    "environment_version": "2"
   },
   "inputWidgetPreferences": null,
   "language": "python",
   "notebookMetadata": {
    "pythonIndentUnit": 4
   },
   "notebookName": "Transforms",
   "widgets": {}
  },
  "language_info": {
   "name": "python"
  }
 },
 "nbformat": 4,
 "nbformat_minor": 0
}

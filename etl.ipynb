{
 "cells": [
  {
   "cell_type": "code",
   "execution_count": 0,
   "metadata": {
    "application/vnd.databricks.v1+cell": {
     "cellMetadata": {
      "byteLimit": 2048000,
      "rowLimit": 10000
     },
     "inputWidgets": {},
     "nuid": "f0a5c7e3-a98e-4627-a77e-33af7d6d55cc",
     "showTitle": false,
     "tableResultSettingsMap": {},
     "title": ""
    }
   },
   "outputs": [],
   "source": [
    "from pyspark.sql.functions import col, hour, dayofweek, unix_timestamp, count, avg, max, min, when, coalesce\n",
    "from pyspark.sql.types import *\n",
    "from datetime import datetime\n",
    "from pyspark.sql import functions as F\n",
    "\n",
    "def print_sorted_schema(df, label=\"DataFrame\"):\n",
    "    print(f\"\\n Schema for {label} (sorted):\")\n",
    "    for name in sorted(df.columns):\n",
    "        dtype = dict(df.dtypes)[name]\n",
    "        print(f\" - {name}: {dtype}\")\n",
    "\n",
    "# ---------- Параметри ----------\n",
    "today = datetime.today().strftime(\"%Y-%m-%d\")\n",
    "zone_lookup_path = \"s3://robot-dreams-source-data/home-work-1/nyc_taxi/taxi_zone_lookup.csv\"\n",
    "yellow_path = \"s3://robot-dreams-source-data/home-work-1-unified/nyc_taxi/yellow/\"\n",
    "green_path = \"s3://robot-dreams-source-data/home-work-1-unified/nyc_taxi/green/\"\n",
    "output_path_zone = f\"s3://vmilichenko-hw/results/zone_statistic/{today}/zone_statistic.parquet\"\n",
    "output_path_days = f\"s3://vmilichenko-hw/results/zone_statistic/{today}/zone_days_statstic.parquet\"\n",
    "\n",
    "\n",
    "# ---------- Рекурсивне завантаження даних ----------\n",
    "yellow_df = spark.read.option(\"recursiveFileLookup\", \"true\").parquet(yellow_path)\n",
    "green_df = spark.read.option(\"recursiveFileLookup\", \"true\").parquet(green_path)\n",
    "\n",
    "#print_sorted_schema(yellow_df, \"yellow_df\")\n",
    "#print_sorted_schema(green_df, \"green_df\")\n",
    "# ---------- Об'єднання датафреймів ----------\n",
    "raw_trips_df = yellow_df.unionByName(green_df)\n",
    "# ---------- Обчисленння duration та додаткових колонок ----------\n",
    "raw_trips_addcol_df = raw_trips_df.withColumn(\n",
    "    \"duration_min\",\n",
    "    (unix_timestamp(\"tpep_dropoff_datetime\") - unix_timestamp(\"tpep_pickup_datetime\")) / 60\n",
    ").withColumn(\n",
    "    \"pickup_hour\", hour(\"tpep_pickup_datetime\")\n",
    ").withColumn(\n",
    "    \"pickup_day_of_week\", dayofweek(\"tpep_pickup_datetime\")\n",
    ")\n",
    "# ---------- Фільтрація аномалій ----------\n",
    "raw_trips_filtered_df = raw_trips_addcol_df.filter(\n",
    "    (col(\"trip_distance\") >= 0.1) &\n",
    "    (col(\"total_amount\") >= 2) &\n",
    "    (col(\"duration_min\") >= 1)\n",
    ")\n",
    "# ---------- JOIN з зонами ----------\n",
    "zones_df = spark.read.option(\"header\", True).csv(zone_lookup_path)\n",
    "zones_df = zones_df.withColumnRenamed(\"LocationID\", \"location_id\")\n",
    "#print_sorted_schema(zones_df, \"zones_df\")\n",
    "\n",
    "df_enriched = raw_trips_filtered_df \\\n",
    "    .join(zones_df.withColumnRenamed(\"Zone\", \"pickup_zone\"), \n",
    "          raw_trips_filtered_df[\"PULocationID\"] == col(\"location_id\"), \"left\") \\\n",
    "    .drop(\"location_id\") \\\n",
    "    .join(zones_df.withColumnRenamed(\"Zone\", \"dropoff_zone\"), \n",
    "          raw_trips_filtered_df[\"DOLocationID\"] == col(\"location_id\"), \"left\") \\\n",
    "    .drop(\"location_id\") \\\n",
    "    .drop(\"borough\") \\\n",
    "    .drop(\"service_zone\")     \n",
    "           \n",
    "#print_sorted_schema(df_enriched, \"df_enriched\")\n",
    "# 6. Збереження в Delta Lake (Unity Catalog + S3)\n",
    "df_enriched.write.format(\"delta\").mode(\"overwrite\").option(\"mergeSchema\", \"true\").saveAsTable(\"vmilichenko_nyc_catalog.nyc_taxi.raw_trips\")"
   ]
  },
  {
   "cell_type": "markdown",
   "metadata": {
    "application/vnd.databricks.v1+cell": {
     "cellMetadata": {},
     "inputWidgets": {},
     "nuid": "a51b269b-ca63-44e2-9e94-f747043adad4",
     "showTitle": false,
     "tableResultSettingsMap": {},
     "title": ""
    }
   },
   "source": []
  },
  {
   "cell_type": "code",
   "execution_count": 0,
   "metadata": {
    "application/vnd.databricks.v1+cell": {
     "cellMetadata": {},
     "inputWidgets": {},
     "nuid": "6bccb246-cc0b-4158-a3b8-98395b665ab6",
     "showTitle": false,
     "tableResultSettingsMap": {},
     "title": ""
    }
   },
   "outputs": [],
   "source": []
  }
 ],
 "metadata": {
  "application/vnd.databricks.v1+notebook": {
   "computePreferences": null,
   "dashboards": [],
   "environmentMetadata": {
    "base_environment": "",
    "environment_version": "2"
   },
   "inputWidgetPreferences": null,
   "language": "python",
   "notebookMetadata": {
    "pythonIndentUnit": 4
   },
   "notebookName": "etl",
   "widgets": {}
  },
  "language_info": {
   "name": "python"
  }
 },
 "nbformat": 4,
 "nbformat_minor": 0
}
